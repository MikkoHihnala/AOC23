{
 "cells": [
  {
   "cell_type": "code",
   "execution_count": 4,
   "metadata": {},
   "outputs": [],
   "source": [
    "import re"
   ]
  },
  {
   "cell_type": "code",
   "execution_count": 54,
   "metadata": {},
   "outputs": [],
   "source": [
    "testInput = open('./testinput2', 'r')\n",
    "data = testInput.readlines()\n",
    "sum = 0\n",
    "stringDigits = {\n",
    "        \"one\"   : 1, \n",
    "        \"two\"   : 2,\n",
    "        \"three\" : 3,\n",
    "        \"four\"  : 4,\n",
    "        \"five\"  : 5,\n",
    "        \"six\"   : 6,\n",
    "        \"seven\" : 7,\n",
    "        \"eight\" : 8,\n",
    "        \"nine\"  : 9\n",
    "        }\n",
    "stringDigits2 = {\n",
    "        \"one\"   : \"o1e\", \n",
    "        \"two\"   : \"t2o\",\n",
    "        \"three\" : \"t3e\",\n",
    "        \"four\"  : \"f4r\",\n",
    "        \"five\"  : \"f5e\",\n",
    "        \"six\"   : \"s6x\",\n",
    "        \"seven\" : \"s7n\",\n",
    "        \"eight\" : \"e8t\",\n",
    "        \"nine\"  : \"n9e\" \n",
    "        }\n",
    "\n"
   ]
  },
  {
   "cell_type": "code",
   "execution_count": 56,
   "metadata": {},
   "outputs": [
    {
     "name": "stdout",
     "output_type": "stream",
     "text": [
      "one o1e\n",
      "two o1e\n",
      "three o1e\n",
      "four o1e\n",
      "five o1e\n",
      "six o1e\n",
      "seven o1e\n",
      "eight o1e\n",
      "nine o1e\n",
      "one o1e\n",
      "two o1e\n",
      "three o1e\n",
      "four o1e\n",
      "five o1e\n",
      "six o1e\n",
      "seven o1e\n",
      "eight o1e\n",
      "nine o1e\n",
      "one o1e\n",
      "two o1e\n",
      "three o1e\n",
      "four o1e\n",
      "five o1e\n",
      "six o1e\n",
      "seven o1e\n",
      "eight o1e\n",
      "nine o1e\n",
      "one o1e\n",
      "two o1e\n",
      "three o1e\n",
      "four o1e\n",
      "five o1e\n",
      "six o1e\n",
      "seven o1e\n",
      "eight o1e\n",
      "nine o1e\n",
      "one o1e\n",
      "two o1e\n",
      "three o1e\n",
      "four o1e\n",
      "five o1e\n",
      "six o1e\n",
      "seven o1e\n",
      "eight o1e\n",
      "nine o1e\n",
      "one o1e\n",
      "two o1e\n",
      "three o1e\n",
      "four o1e\n",
      "five o1e\n",
      "six o1e\n",
      "seven o1e\n",
      "eight o1e\n",
      "nine o1e\n",
      "one o1e\n",
      "two o1e\n",
      "three o1e\n",
      "four o1e\n",
      "five o1e\n",
      "six o1e\n",
      "seven o1e\n",
      "eight o1e\n",
      "nine o1e\n",
      "['two1nine\\n', 'eightwothree\\n', 'abcone2threexyz\\n', 'xtwone3four\\n', '4nineeightseven2\\n', 'zoneight234\\n', '7pqrstsixteen']\n"
     ]
    }
   ],
   "source": [
    "for line in data:\n",
    "    for key in stringDigits2:\n",
    "        line.replace(key, value)   \n",
    "\n",
    "print(data)"
   ]
  },
  {
   "cell_type": "code",
   "execution_count": 18,
   "metadata": {},
   "outputs": [
    {
     "name": "stdout",
     "output_type": "stream",
     "text": [
      "11\n",
      "\n"
     ]
    },
    {
     "ename": "ValueError",
     "evalue": "invalid literal for int() with base 10: ''",
     "output_type": "error",
     "traceback": [
      "\u001b[0;31m---------------------------------------------------------------------------\u001b[0m",
      "\u001b[0;31mValueError\u001b[0m                                Traceback (most recent call last)",
      "\u001b[1;32m/Users/mikko/Documents/Dev/Py/AOC23/01/test.ipynb Cell 4\u001b[0m line \u001b[0;36m1\n\u001b[1;32m     <a href='vscode-notebook-cell:/Users/mikko/Documents/Dev/Py/AOC23/01/test.ipynb#W1sZmlsZQ%3D%3D?line=12'>13</a>\u001b[0m             \u001b[39mbreak\u001b[39;00m\n\u001b[1;32m     <a href='vscode-notebook-cell:/Users/mikko/Documents/Dev/Py/AOC23/01/test.ipynb#W1sZmlsZQ%3D%3D?line=13'>14</a>\u001b[0m     \u001b[39mprint\u001b[39m(numberInString)\n\u001b[0;32m---> <a href='vscode-notebook-cell:/Users/mikko/Documents/Dev/Py/AOC23/01/test.ipynb#W1sZmlsZQ%3D%3D?line=14'>15</a>\u001b[0m     \u001b[39msum\u001b[39m \u001b[39m+\u001b[39m\u001b[39m=\u001b[39m \u001b[39mint\u001b[39;49m(numberInString)\n\u001b[1;32m     <a href='vscode-notebook-cell:/Users/mikko/Documents/Dev/Py/AOC23/01/test.ipynb#W1sZmlsZQ%3D%3D?line=16'>17</a>\u001b[0m \u001b[39mprint\u001b[39m(\u001b[39msum\u001b[39m)\n",
      "\u001b[0;31mValueError\u001b[0m: invalid literal for int() with base 10: ''"
     ]
    }
   ],
   "source": [
    "\n",
    "#by line\n",
    "for line in data:\n",
    "    numberInString = \"\"\n",
    "    #find first digit\n",
    "    for char in line:\n",
    "        if char.isdigit():\n",
    "            numberInString += char\n",
    "            break\n",
    "    #find last digit\n",
    "    for char in reversed(line):\n",
    "        if char.isdigit():\n",
    "            numberInString += char\n",
    "            break\n",
    "    print(numberInString)\n",
    "    sum += int(numberInString)\n",
    "\n",
    "print(sum)\n"
   ]
  },
  {
   "cell_type": "code",
   "execution_count": null,
   "metadata": {},
   "outputs": [],
   "source": []
  }
 ],
 "metadata": {
  "kernelspec": {
   "display_name": "Python 3",
   "language": "python",
   "name": "python3"
  },
  "language_info": {
   "codemirror_mode": {
    "name": "ipython",
    "version": 3
   },
   "file_extension": ".py",
   "mimetype": "text/x-python",
   "name": "python",
   "nbconvert_exporter": "python",
   "pygments_lexer": "ipython3",
   "version": "3.11.6"
  }
 },
 "nbformat": 4,
 "nbformat_minor": 2
}
