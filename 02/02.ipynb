{
 "cells": [
  {
   "cell_type": "code",
   "execution_count": 52,
   "metadata": {},
   "outputs": [
    {
     "ename": "UnboundLocalError",
     "evalue": "local variable 'sum' referenced before assignment",
     "output_type": "error",
     "traceback": [
      "\u001b[0;31m---------------------------------------------------------------------------\u001b[0m",
      "\u001b[0;31mUnboundLocalError\u001b[0m                         Traceback (most recent call last)",
      "\u001b[1;32m/Users/mikko/Documents/Dev/Py/AOC23/02/02.ipynb Cell 1\u001b[0m line \u001b[0;36m3\n\u001b[1;32m     <a href='vscode-notebook-cell:/Users/mikko/Documents/Dev/Py/AOC23/02/02.ipynb#W0sZmlsZQ%3D%3D?line=35'>36</a>\u001b[0m             \u001b[39msum\u001b[39m \u001b[39m+\u001b[39m\u001b[39m=\u001b[39m index\u001b[39m+\u001b[39m\u001b[39m1\u001b[39m\n\u001b[1;32m     <a href='vscode-notebook-cell:/Users/mikko/Documents/Dev/Py/AOC23/02/02.ipynb#W0sZmlsZQ%3D%3D?line=36'>37</a>\u001b[0m     \u001b[39mreturn\u001b[39;00m \u001b[39msum\u001b[39m\n\u001b[0;32m---> <a href='vscode-notebook-cell:/Users/mikko/Documents/Dev/Py/AOC23/02/02.ipynb#W0sZmlsZQ%3D%3D?line=38'>39</a>\u001b[0m \u001b[39mprint\u001b[39m(partOne(data))\n",
      "\u001b[1;32m/Users/mikko/Documents/Dev/Py/AOC23/02/02.ipynb Cell 1\u001b[0m line \u001b[0;36m3\n\u001b[1;32m     <a href='vscode-notebook-cell:/Users/mikko/Documents/Dev/Py/AOC23/02/02.ipynb#W0sZmlsZQ%3D%3D?line=33'>34</a>\u001b[0m \u001b[39mfor\u001b[39;00m index \u001b[39min\u001b[39;00m \u001b[39mrange\u001b[39m(\u001b[39mlen\u001b[39m(games)):\n\u001b[1;32m     <a href='vscode-notebook-cell:/Users/mikko/Documents/Dev/Py/AOC23/02/02.ipynb#W0sZmlsZQ%3D%3D?line=34'>35</a>\u001b[0m     \u001b[39mif\u001b[39;00m \u001b[39mFalse\u001b[39;00m \u001b[39mnot\u001b[39;00m \u001b[39min\u001b[39;00m games[index]:\n\u001b[0;32m---> <a href='vscode-notebook-cell:/Users/mikko/Documents/Dev/Py/AOC23/02/02.ipynb#W0sZmlsZQ%3D%3D?line=35'>36</a>\u001b[0m         \u001b[39msum\u001b[39m \u001b[39m+\u001b[39m\u001b[39m=\u001b[39m index\u001b[39m+\u001b[39m\u001b[39m1\u001b[39m\n\u001b[1;32m     <a href='vscode-notebook-cell:/Users/mikko/Documents/Dev/Py/AOC23/02/02.ipynb#W0sZmlsZQ%3D%3D?line=36'>37</a>\u001b[0m \u001b[39mreturn\u001b[39;00m \u001b[39msum\u001b[39m\n",
      "\u001b[0;31mUnboundLocalError\u001b[0m: local variable 'sum' referenced before assignment"
     ]
    }
   ],
   "source": [
    "from pprint import pprint\n",
    "#inputData = open(\"../02/testinput\", \"r\")\n",
    "inputData = open(\"../02/input\", \"r\")\n",
    "data  = inputData.readlines()\n",
    "\n",
    "\n",
    "def checkMax(color, number):\n",
    "    maxValues = {\n",
    "            \"red\": 12,\n",
    "            \"green\": 13,\n",
    "            \"blue\": 14\n",
    "            }\n",
    "    for k,v in maxValues.items():\n",
    "        if k == color and int(number)<=v:\n",
    "            return True\n",
    "    return False\n",
    "\n",
    "def partOne(data):\n",
    "    games = []\n",
    "    sum = 0\n",
    "    for game in data:\n",
    "        games.append(game.strip().split(\": \")[1])\n",
    "    for line in range(len(games)):\n",
    "        set = games[line]\n",
    "        set = set.replace(\";\", \",\")\n",
    "        set = set.split(\", \")\n",
    "        games[line] = set\n",
    "        for item in range(len(set)):\n",
    "            pull = set[item].split(\" \")\n",
    "            if checkMax(pull[1], int(pull[0])):\n",
    "                games[line][item] = True\n",
    "            else:\n",
    "                games[line][item] = False\n",
    "    for index in range(len(games)):\n",
    "        if False not in games[index]:\n",
    "            sum += index+1\n",
    "    return sum\n",
    "\n",
    "print(partOne(data))\n"
   ]
  },
  {
   "cell_type": "code",
   "execution_count": null,
   "metadata": {},
   "outputs": [],
   "source": []
  }
 ],
 "metadata": {
  "kernelspec": {
   "display_name": "Python 3",
   "language": "python",
   "name": "python3"
  },
  "language_info": {
   "codemirror_mode": {
    "name": "ipython",
    "version": 3
   },
   "file_extension": ".py",
   "mimetype": "text/x-python",
   "name": "python",
   "nbconvert_exporter": "python",
   "pygments_lexer": "ipython3",
   "version": "3.10.6"
  }
 },
 "nbformat": 4,
 "nbformat_minor": 2
}
